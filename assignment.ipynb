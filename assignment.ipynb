{
 "cells": [
  {
   "cell_type": "markdown",
   "metadata": {},
   "source": [
    "# Breaking a CAPTCHA system\n",
    "\n",
    "Ref: https://medium.com/@ageitgey/how-to-break-a-captcha-system-in-15-minutes-with-machine-learning-dbebb035a710"
   ]
  },
  {
   "cell_type": "code",
   "execution_count": 1,
   "metadata": {},
   "outputs": [
    {
     "data": {
      "application/javascript": [
       "IPython.notebook.clear_all_output();"
      ],
      "text/plain": [
       "<IPython.core.display.Javascript object>"
      ]
     },
     "metadata": {},
     "output_type": "display_data"
    }
   ],
   "source": [
    "%%javascript\n",
    "IPython.notebook.clear_all_output();"
   ]
  },
  {
   "cell_type": "markdown",
   "metadata": {},
   "source": [
    "Install some packages below (if not installed already):"
   ]
  },
  {
   "cell_type": "code",
   "execution_count": null,
   "metadata": {},
   "outputs": [],
   "source": [
    "!pip install opencv-python\n",
    "!pip install imutils"
   ]
  },
  {
   "cell_type": "markdown",
   "metadata": {},
   "source": [
    "In this exercise you will break `Really Simple CAPTCHA` plugin of WordPress: https://wordpress.org/plugins/really-simple-captcha/\n",
    "\n",
    "Try a demo here: https://contactform7.com/captcha/"
   ]
  },
  {
   "cell_type": "markdown",
   "metadata": {},
   "source": [
    "The plugin generates 4-letter CAPTCHAs using a random mix of four different fonts. Letters are from 'ABCDEFGHJKLMNPQRSTUVWXYZ23456789' and \"O\", \"I\" and \"1\" are not used to avoid user confusion. That leaves us with a total of 32 possible letters and numbers that we need to recognize."
   ]
  },
  {
   "cell_type": "markdown",
   "metadata": {},
   "source": [
    "Since we have the source code to the WordPress plug-in, we can modify it to save out CAPTCHA images along with the expected answer for each image. We generated 9955 images under folder `generated_captcha_images`. Run the following code to show 10 images to take a look."
   ]
  },
  {
   "cell_type": "code",
   "execution_count": null,
   "metadata": {},
   "outputs": [],
   "source": [
    "CAPTCHA_IMAGE_FOLDER = \"generated_captcha_images\""
   ]
  },
  {
   "cell_type": "markdown",
   "metadata": {},
   "source": [
    "## Step 1: Extract single letters from CAPTCHA images"
   ]
  },
  {
   "cell_type": "markdown",
   "metadata": {},
   "source": [
    "### Run the following code to show 10 images to take a look."
   ]
  },
  {
   "cell_type": "code",
   "execution_count": null,
   "metadata": {},
   "outputs": [],
   "source": [
    "import os.path\n",
    "import glob # glob.glob returns the list of files with their full path, and it supports wildcards\n",
    "\n",
    "from IPython.display import Image\n",
    "\n",
    "captcha_image_files = glob.glob(os.path.join(CAPTCHA_IMAGE_FOLDER, \"*\"))\n",
    "\n",
    "for (i, captcha_image_file) in enumerate(captcha_image_files):\n",
    "    if i==10: break\n",
    "    print(captcha_image_file)\n",
    "    display(Image(filename=captcha_image_file))"
   ]
  },
  {
   "cell_type": "markdown",
   "metadata": {},
   "source": [
    "### Now we illustrate how to process an image `generated_captcha_images/222X.png`"
   ]
  },
  {
   "cell_type": "code",
   "execution_count": null,
   "metadata": {},
   "outputs": [],
   "source": [
    "%matplotlib inline\n",
    "#The line above is necesary to show Matplotlib's plots inside a Jupyter Notebook\n",
    "from matplotlib import pyplot as plt\n",
    "import cv2 # OpenCV, a popular framework for computer vision and image processing\n",
    "\n",
    "captcha_image_file = 'generated_captcha_images/222X.png' # normal\n",
    "# captcha_image_file = 'generated_captcha_images/2W4M.png' # try this: 3 objects, 2 letters are merged\n",
    "# captcha_image_file = 'generated_captcha_images/3PH3.png' # try this: 5 objects detected\n",
    "# captcha_image_file = 'generated_captcha_images/JYU4.png' # try this: 6 objects detected\n",
    "\n",
    "captcha_correct_text = os.path.splitext(captcha_image_file)[0]\n",
    "\n",
    "# Load the image and convert it to grayscale\n",
    "image = cv2.imread(captcha_image_file)\n",
    "gray = cv2.cvtColor(image, cv2.COLOR_BGR2GRAY)\n",
    "\n",
    "#Show the image with matplotlib\n",
    "plt.imshow(image)\n",
    "plt.show()\n",
    "\n",
    "plt.imshow(gray)\n",
    "plt.show()"
   ]
  },
  {
   "cell_type": "code",
   "execution_count": null,
   "metadata": {},
   "outputs": [],
   "source": [
    "# Add some extra padding around the image\n",
    "gray = cv2.copyMakeBorder(gray, 8, 8, 8, 8, cv2.BORDER_REPLICATE)\n",
    "\n",
    "plt.imshow(gray)\n",
    "plt.show()"
   ]
  },
  {
   "cell_type": "code",
   "execution_count": null,
   "metadata": {},
   "outputs": [],
   "source": [
    "# threshold the image (convert it to pure black and white)\n",
    "# we use Otsu’s binarization\n",
    "# check: https://docs.opencv.org/3.4.0/d7/d4d/tutorial_py_thresholding.html\n",
    "thresh = cv2.threshold(gray, 0, 255, cv2.THRESH_BINARY_INV | cv2.THRESH_OTSU)[1]\n",
    "\n",
    "plt.imshow(thresh)\n",
    "plt.show()"
   ]
  },
  {
   "cell_type": "code",
   "execution_count": null,
   "metadata": {},
   "outputs": [],
   "source": [
    "import numpy as np\n",
    "\n",
    "# find the contours (continuous blobs of pixels) the image\n",
    "# check:\n",
    "# https://opencv-python-tutroals.readthedocs.io/en/latest/py_tutorials/py_imgproc/py_contours/py_contours_begin/py_contours_begin.html#contours-getting-started\n",
    "contours = cv2.findContours(thresh.copy(), cv2.RETR_EXTERNAL, cv2.CHAIN_APPROX_SIMPLE)[1]\n",
    "\n",
    "zero_img = np.zeros_like(thresh)\n",
    "\n",
    "for i in range(len(contours)):\n",
    "    temp = cv2.drawContours(zero_img.copy(), contours, i, (255,0,0), 1)\n",
    "    plt.imshow(temp)\n",
    "    plt.show()"
   ]
  },
  {
   "cell_type": "code",
   "execution_count": null,
   "metadata": {},
   "outputs": [],
   "source": [
    "for contour in contours:\n",
    "    # Get the rectangle that contains the contour\n",
    "    (x, y, w, h) = cv2.boundingRect(contour)\n",
    "    letter_image = gray[y:y+h, x:x+w]\n",
    "    plt.imshow(letter_image)\n",
    "    plt.show()"
   ]
  },
  {
   "cell_type": "markdown",
   "metadata": {},
   "source": [
    "### Putting things together: get letters from images\n",
    "\n",
    "Using what we have learnt above, write your code to save get the letters of all images. The letter-images are stored as 32 folders under folder `extracted_letter_images`.\n",
    "\n",
    "For example, `extracted_letter_images/A` is a folder that saves all images of letter `A`. After you complete, each letter-folder should contain over 1000 letter-images.\n",
    "\n",
    "Hint: (1) consider how to name different files in a letter-folder differently? (2) ingore those images with number of contours other than 4."
   ]
  },
  {
   "cell_type": "code",
   "execution_count": null,
   "metadata": {},
   "outputs": [],
   "source": [
    "import os\n",
    "\n",
    "LETTER_IMAGES_FOLDER = \"extracted_letter_images\" # the output for training\n",
    "SKIPPED_FOLDER = \"skipped_images\" # those images are skipped\n",
    "counts = {} # counts['A'] = number of 'A'-images, so that next 'A'-image can be named as counts['A'] + 1\n",
    "\n",
    "# loop over the image paths\n",
    "for (i, captcha_image_file) in enumerate(captcha_image_files):\n",
    "    print(\"[INFO] processing image {}/{}\".format(i + 1, len(captcha_image_files)))\n",
    "\n",
    "    #############################################################################\n",
    "    # TODO: your code here ...                                                  #\n",
    "    #############################################################################\n",
    "    \n",
    "   \n",
    "    #############################################################################\n",
    "    #                              END OF YOUR CODE                             #\n",
    "    #############################################################################"
   ]
  },
  {
   "cell_type": "markdown",
   "metadata": {},
   "source": [
    "Now, folder `extracted_letter_images` should contain 32 folders, each storing the corresponding letter images"
   ]
  },
  {
   "cell_type": "markdown",
   "metadata": {},
   "source": [
    "## Step 2: Train the neural network to recognize single letters"
   ]
  },
  {
   "cell_type": "markdown",
   "metadata": {},
   "source": [
    "Since input layer of a neural network model takes images of fixed size (usually square), we need to resize images first."
   ]
  },
  {
   "cell_type": "code",
   "execution_count": null,
   "metadata": {},
   "outputs": [],
   "source": [
    "letter_image_file = 'extracted_letter_images/2/000001.png'\n",
    "\n",
    "image = cv2.imread(letter_image_file)\n",
    "image = cv2.cvtColor(image, cv2.COLOR_BGR2GRAY)\n",
    "print(image.shape) \n",
    "(h, w) = image.shape[:2] # note that cv.imread gets an array of h x w, h goes first\n",
    "# add [:2] so that even if color image will work, not needed here though\n",
    "\n",
    "plt.imshow(image)\n",
    "plt.show()"
   ]
  },
  {
   "cell_type": "markdown",
   "metadata": {},
   "source": [
    "Since `h > w`, we make sure `h` fits in our desired height value, e.g., 20:"
   ]
  },
  {
   "cell_type": "code",
   "execution_count": null,
   "metadata": {},
   "outputs": [],
   "source": [
    "import imutils\n",
    "\n",
    "image = imutils.resize(image, height=20)\n",
    "# imutils.resize maintains the aspect ratio\n",
    "\n",
    "plt.imshow(image)\n",
    "plt.show()"
   ]
  },
  {
   "cell_type": "markdown",
   "metadata": {},
   "source": [
    "Now we pad along width to make the image square, i.e., 20 x 20:"
   ]
  },
  {
   "cell_type": "code",
   "execution_count": null,
   "metadata": {},
   "outputs": [],
   "source": [
    "# determine the padding values for the width (= 20)\n",
    "# to obtain the target dimensions\n",
    "padW = int((20 - image.shape[1]) / 2.0) # may have rounding\n",
    "\n",
    "# pad the image\n",
    "image = cv2.copyMakeBorder(image, 0, 0, padW, padW,\n",
    "        cv2.BORDER_REPLICATE)\n",
    "\n",
    "# apply one more resizing to handle any rounding issues\n",
    "image = cv2.resize(image, (20, 20))\n",
    "\n",
    "plt.imshow(image)\n",
    "plt.show()"
   ]
  },
  {
   "cell_type": "markdown",
   "metadata": {},
   "source": [
    "Using what you learned, now write a function to resize images. Note that you also need to handle the possible case `h < w`:"
   ]
  },
  {
   "cell_type": "code",
   "execution_count": null,
   "metadata": {},
   "outputs": [],
   "source": [
    "def resize_to_fit(image, width, height):\n",
    "    \"\"\"\n",
    "    A helper function to resize an image to fit within a given size\n",
    "    - param image: image to resize\n",
    "    - param width: desired width in pixels\n",
    "    - param height: desired height in pixels\n",
    "    - return: the resized image\n",
    "    \"\"\"\n",
    "\n",
    "    #############################################################################\n",
    "    # TODO: your code here ...                                                  #\n",
    "    #############################################################################\n",
    "    \n",
    "    #############################################################################\n",
    "    #                              END OF YOUR CODE                             #\n",
    "    #############################################################################\n",
    "\n",
    "    # return the pre-processed image\n",
    "    return image"
   ]
  },
  {
   "cell_type": "markdown",
   "metadata": {},
   "source": [
    "Prepare the training and validating datasets:"
   ]
  },
  {
   "cell_type": "code",
   "execution_count": null,
   "metadata": {},
   "outputs": [],
   "source": [
    "from imutils import paths\n",
    "\n",
    "# initialize the data and labels\n",
    "data = []\n",
    "labels = []\n",
    "\n",
    "progress_folder = ''\n",
    "\n",
    "# loop over the input images\n",
    "# imutils.paths.list_images will list all images in the 32 subfolders\n",
    "for image_file in paths.list_images(LETTER_IMAGES_FOLDER):\n",
    "    # Load the image and convert it to grayscale\n",
    "    image = cv2.imread(image_file)\n",
    "    image = cv2.cvtColor(image, cv2.COLOR_BGR2GRAY)\n",
    "\n",
    "    # Resize the letter so it fits in a 20x20 pixel box\n",
    "    image = resize_to_fit(image, 20, 20)\n",
    "\n",
    "    # Add a third channel dimension to the image to make Keras happy\n",
    "    image = np.expand_dims(image, axis=2)\n",
    "\n",
    "    # Grab the name of the letter based on the folder it was in\n",
    "    label = image_file.split(os.path.sep)[-2]\n",
    "    # extracted_letter_images/2/000001.png, after split\n",
    "    # extracted_letter_images, 2, 000001.png\n",
    "    # so 2 is the 2nd last, accessed using index -2\n",
    "    \n",
    "    if label != progress_folder:\n",
    "        print('Processing Folder', label)\n",
    "        progress_folder = label\n",
    "    \n",
    "    # Add the letter image and it's label to our training data\n",
    "    data.append(image)\n",
    "    labels.append(label)"
   ]
  },
  {
   "cell_type": "markdown",
   "metadata": {},
   "source": [
    "Convert lists into NumPy arrays as required by Keras for input + data normalization:"
   ]
  },
  {
   "cell_type": "code",
   "execution_count": null,
   "metadata": {},
   "outputs": [],
   "source": [
    "# scale the raw pixel intensities to the range [0, 1] (this is important!!!)\n",
    "data = np.array(data, dtype=\"float\") / 255.0\n",
    "\n",
    "# you may also use std rather than 255, and center the data by mean as follows:\n",
    "#data = (np.array(data, dtype=\"float\") - data.mean()) / data.std()\n",
    "# in this case you need to remember the mean and std for use during testing later\n",
    "\n",
    "# scaling is not needed if you use BatchNormalization after Conv2D and before Activation\n",
    "\n",
    "labels = np.array(labels)"
   ]
  },
  {
   "cell_type": "markdown",
   "metadata": {},
   "source": [
    "Split into training and validation datasets:"
   ]
  },
  {
   "cell_type": "code",
   "execution_count": null,
   "metadata": {},
   "outputs": [],
   "source": [
    "from sklearn.preprocessing import LabelBinarizer\n",
    "\n",
    "# Convert the labels (letters) into one-hot encodings that Keras can work with\n",
    "lb = LabelBinarizer().fit(labels)\n",
    "print(lb.classes_)\n",
    "labels = lb.transform(labels)\n",
    "print()\n",
    "print(labels)"
   ]
  },
  {
   "cell_type": "code",
   "execution_count": null,
   "metadata": {},
   "outputs": [],
   "source": [
    "import pickle\n",
    "\n",
    "MODEL_LABELS_FILENAME = \"model_labels.dat\"\n",
    "\n",
    "# Save the mapping from labels to one-hot encodings.\n",
    "# We'll need this later when we use the model to decode what it's predictions mean\n",
    "with open(MODEL_LABELS_FILENAME, \"wb\") as f:\n",
    "    pickle.dump(lb, f)"
   ]
  },
  {
   "cell_type": "markdown",
   "metadata": {},
   "source": [
    "Now we are ready to train it using Keras. We’ll use a simple convolutional neural network architecture with two convolutional layers and two fully-connected layers:"
   ]
  },
  {
   "cell_type": "code",
   "execution_count": null,
   "metadata": {},
   "outputs": [],
   "source": [
    "from tensorflow.keras.backend import clear_session\n",
    "from tensorflow.keras.models import Sequential\n",
    "from tensorflow.keras.layers import Conv2D, MaxPooling2D, Flatten, Dense\n",
    "\n",
    "clear_session() # free existing Keras models\n",
    "\n",
    "# Build the neural network!\n",
    "model = Sequential()\n",
    "\n",
    "# First convolutional layer with max pooling\n",
    "model.add(Conv2D(20, (5, 5), padding=\"same\", input_shape=(20, 20, 1), activation=\"relu\"))\n",
    "model.add(MaxPooling2D(pool_size=(2, 2), strides=(2, 2)))\n",
    "\n",
    "# Second convolutional layer with max pooling\n",
    "model.add(Conv2D(50, (3, 3), padding=\"same\", activation=\"relu\"))\n",
    "model.add(MaxPooling2D(pool_size=(2, 2), strides=(2, 2)))\n",
    "\n",
    "# Hidden layer with 500 nodes\n",
    "model.add(Flatten())\n",
    "model.add(Dense(500, activation=\"relu\"))\n",
    "\n",
    "# Output layer with 32 nodes (one for each possible letter/number we predict)\n",
    "model.add(Dense(32, activation=\"softmax\"))"
   ]
  },
  {
   "cell_type": "code",
   "execution_count": null,
   "metadata": {},
   "outputs": [],
   "source": [
    "model.summary()"
   ]
  },
  {
   "cell_type": "code",
   "execution_count": null,
   "metadata": {},
   "outputs": [],
   "source": [
    "from tensorflow.keras.utils import plot_model\n",
    "\n",
    "MODEL_PLOT_FILE = 'model_plot.png'\n",
    "plot_model(model, to_file=MODEL_PLOT_FILE, show_shapes=True, show_layer_names=True)\n",
    "display(Image(filename=MODEL_PLOT_FILE))"
   ]
  },
  {
   "cell_type": "markdown",
   "metadata": {},
   "source": [
    "Questions: (1) Why `conv2d_1` has 9050 parameters? (2) Why `dense` has 625500 parameters?\n",
    "\n",
    "Hint: self-study http://cs231n.stanford.edu/slides/2017/cs231n_2017_lecture5.pdf\n",
    "    \n",
    "**Type Your Answer Here:**"
   ]
  },
  {
   "cell_type": "markdown",
   "metadata": {},
   "source": [
    "\n",
    "Now, let us do the actual training:"
   ]
  },
  {
   "cell_type": "code",
   "execution_count": null,
   "metadata": {},
   "outputs": [],
   "source": [
    "# Ask Keras to build the TensorFlow model behind the scenes\n",
    "model.compile(loss=\"categorical_crossentropy\", optimizer=\"adam\", metrics=[\"accuracy\"])"
   ]
  },
  {
   "cell_type": "code",
   "execution_count": null,
   "metadata": {},
   "outputs": [],
   "source": [
    "# Train the neural network, 20% of the data is used for validation\n",
    "model.fit(data, labels, validation_split=0.20, batch_size=32, epochs=10, verbose=1)"
   ]
  },
  {
   "cell_type": "markdown",
   "metadata": {},
   "source": [
    "Save the model for later use:"
   ]
  },
  {
   "cell_type": "code",
   "execution_count": null,
   "metadata": {},
   "outputs": [],
   "source": [
    "MODEL_FILENAME = \"captcha_model.hdf5\"\n",
    "\n",
    "# Save the trained model to disk\n",
    "model.save(MODEL_FILENAME)"
   ]
  },
  {
   "cell_type": "code",
   "execution_count": null,
   "metadata": {},
   "outputs": [],
   "source": [
    "#See what will happen if you do not scale your data by 255.0?\n",
    "#HINT: simply train again with data/255.0 instead of 255, and see how the loss and acc look like;\n",
    "#      you need to recreate your model by running the cell containing clear_session() before\n",
    "\n",
    "#[YOUR CODE HERE]"
   ]
  },
  {
   "cell_type": "markdown",
   "metadata": {},
   "source": [
    "## Step 3: Use the model to solve CAPTCHAs!"
   ]
  },
  {
   "cell_type": "markdown",
   "metadata": {},
   "source": [
    "The rest part can be run independently once models are saved."
   ]
  },
  {
   "cell_type": "markdown",
   "metadata": {},
   "source": [
    "Get an image from the online demo: https://contactform7.com/captcha/ and try our model on it:"
   ]
  },
  {
   "cell_type": "code",
   "execution_count": null,
   "metadata": {},
   "outputs": [],
   "source": [
    "# replace the url with the link of the image you see\n",
    "# [Using the same image will cause points deducted !!!]\n",
    "!wget https://contactform7.com/wp-content/uploads/wpcf7_captcha/4034640145.png\n",
    "# use the name of the file you downloaded\n",
    "TEST_FILE_NAME = '4034640145.png'\n",
    "\n",
    "# show the image\n",
    "from IPython.display import Image\n",
    "\n",
    "display(Image(filename=TEST_FILE_NAME))"
   ]
  },
  {
   "cell_type": "markdown",
   "metadata": {},
   "source": [
    "Load saved model data:"
   ]
  },
  {
   "cell_type": "code",
   "execution_count": null,
   "metadata": {},
   "outputs": [],
   "source": [
    "from tensorflow.keras.models import load_model\n",
    "import pickle\n",
    "\n",
    "MODEL_FILENAME = \"captcha_model.hdf5\"\n",
    "MODEL_LABELS_FILENAME = \"model_labels.dat\"\n",
    "\n",
    "# Load up the model labels (so we can translate model predictions to actual letters)\n",
    "with open(MODEL_LABELS_FILENAME, \"rb\") as f:\n",
    "    lb = pickle.load(f)\n",
    "\n",
    "# Load the trained neural network\n",
    "model = load_model(MODEL_FILENAME)"
   ]
  },
  {
   "cell_type": "markdown",
   "metadata": {},
   "source": [
    "Load packages and define functions for independent running of Part 3:"
   ]
  },
  {
   "cell_type": "code",
   "execution_count": null,
   "metadata": {},
   "outputs": [],
   "source": [
    "import numpy as np\n",
    "import imutils\n",
    "import cv2\n",
    "\n",
    "# [!!! please also run the cell defining function \"resize_to_fit\" again, if you run Part 3 alone]"
   ]
  },
  {
   "cell_type": "markdown",
   "metadata": {},
   "source": [
    "Get the letters from the downloaded images:"
   ]
  },
  {
   "cell_type": "code",
   "execution_count": null,
   "metadata": {},
   "outputs": [],
   "source": [
    "# Load the image and convert it to grayscale\n",
    "image = cv2.imread(TEST_FILE_NAME)\n",
    "\n",
    "gray = cv2.cvtColor(image, cv2.COLOR_BGR2GRAY)\n",
    "\n",
    "# Add some extra padding around the image\n",
    "gray = cv2.copyMakeBorder(gray, 20, 20, 20, 20, cv2.BORDER_REPLICATE)\n",
    "\n",
    "# threshold the image (convert it to pure black and white)\n",
    "thresh = cv2.threshold(gray, 0, 255, cv2.THRESH_BINARY_INV | cv2.THRESH_OTSU)[1]\n",
    "\n",
    "# find the contours (continuous blobs of pixels) the image\n",
    "contours = cv2.findContours(thresh.copy(), cv2.RETR_EXTERNAL, cv2.CHAIN_APPROX_SIMPLE)[1]\n",
    "\n",
    "letter_image_regions = []\n",
    "\n",
    "# Now we can loop through each of the four contours and extract the letter\n",
    "# inside of each one\n",
    "for contour in contours:\n",
    "    # Get the rectangle that contains the contour\n",
    "    (x, y, w, h) = cv2.boundingRect(contour)\n",
    "    letter_image_regions.append((x, y, w, h))\n",
    "\n",
    "# If we found more or less than 4 letters in the captcha, our letter extraction\n",
    "# didn't work correcly. Skip the image instead of saving bad training data!\n",
    "if len(letter_image_regions) != 4:\n",
    "    print('[WARNING]', TEST_FILE_NAME, 'has', len(letter_image_regions), 'contours, unable to process')\n",
    "else:\n",
    "    print('[SUCCESS]')"
   ]
  },
  {
   "cell_type": "markdown",
   "metadata": {},
   "source": [
    "If you see a warning, use another image instead and repeat the previous steps."
   ]
  },
  {
   "cell_type": "markdown",
   "metadata": {},
   "source": [
    "Otherwise, continue to create an output image:"
   ]
  },
  {
   "cell_type": "code",
   "execution_count": null,
   "metadata": {},
   "outputs": [],
   "source": [
    "# Sort the detected letter images based on the x coordinate to make sure\n",
    "# we are processing them from left-to-right so we match the right image\n",
    "# with the right letter\n",
    "letter_image_regions = sorted(letter_image_regions, key=lambda x: x[0])\n",
    "\n",
    "# Create an output image and a list to hold our predicted letters\n",
    "output = cv2.merge([gray] * 3) # 2D gray image -> 3D color image\n",
    "\n",
    "# show the 3D image\n",
    "%matplotlib inline\n",
    "#The line above is necesary to show Matplotlib's plots inside a Jupyter Notebook\n",
    "from matplotlib import pyplot as plt\n",
    "\n",
    "#Show the image with matplotlib\n",
    "plt.imshow(output)\n",
    "plt.show()"
   ]
  },
  {
   "cell_type": "code",
   "execution_count": null,
   "metadata": {},
   "outputs": [],
   "source": [
    "predictions = []\n",
    "\n",
    "# Save out each letter as a single image\n",
    "for letter_bounding_box in letter_image_regions:\n",
    "    # Grab the coordinates of the letter in the image\n",
    "    x, y, w, h = letter_bounding_box\n",
    "\n",
    "    # Extract the letter from the original image with a 2-pixel margin around the edge\n",
    "    letter_image = gray[y - 2:y + h + 2, x - 2:x + w + 2]\n",
    "\n",
    "    # Re-size the letter image to 20x20 pixels to match training data\n",
    "    letter_image = resize_to_fit(letter_image, 20, 20)\n",
    "    \n",
    "    # Turn the single image into a 4D list of images to make Keras happy\n",
    "    # 4D: image_number (=1) x height x width x channel (=1)\n",
    "    letter_image = np.expand_dims(letter_image, axis=2)\n",
    "    letter_image = np.expand_dims(letter_image, axis=0)\n",
    "    \n",
    "    # Ask the neural network to make a prediction\n",
    "    prediction = model.predict(letter_image) # output is one-hot encoded\n",
    "        \n",
    "    letter = lb.inverse_transform(prediction)[0]\n",
    "    # use [0] since there is only one test data's label item in the list\n",
    "    predictions.append(letter)\n",
    "    \n",
    "    # draw the prediction on the output image\n",
    "    # (255, 0, 0) = red\n",
    "    cv2.rectangle(output, (x - 2, y - 2), (x + w + 4, y + h + 4), (255, 0, 0), 1)\n",
    "    cv2.putText(output, letter, (x, y - 8), cv2.FONT_HERSHEY_SIMPLEX, 0.55, (255, 0, 0), 1)\n",
    "\n",
    "# see prediction result:\n",
    "\n",
    "# Print the captcha's text\n",
    "captcha_text = \"\".join(predictions)\n",
    "print(\"CAPTCHA text is: {}\".format(captcha_text))\n",
    "\n",
    "# Show the annotated image\n",
    "plt.imshow(output)\n",
    "plt.show()"
   ]
  },
  {
   "cell_type": "markdown",
   "metadata": {},
   "source": [
    "Questions: Is the prediction correct? How many letters are correctly predicted?\n",
    "    \n",
    "**Type Your Answer Here:**"
   ]
  }
 ],
 "metadata": {
  "kernelspec": {
   "display_name": "Python 3",
   "language": "python",
   "name": "python3"
  },
  "language_info": {
   "codemirror_mode": {
    "name": "ipython",
    "version": 3
   },
   "file_extension": ".py",
   "mimetype": "text/x-python",
   "name": "python",
   "nbconvert_exporter": "python",
   "pygments_lexer": "ipython3",
   "version": "3.6.4"
  }
 },
 "nbformat": 4,
 "nbformat_minor": 1
}
